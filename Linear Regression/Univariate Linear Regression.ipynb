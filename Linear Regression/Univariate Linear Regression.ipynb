{
 "cells": [
  {
   "cell_type": "markdown",
   "metadata": {},
   "source": [
    "# Univariate Linear Regression"
   ]
  },
  {
   "cell_type": "markdown",
   "metadata": {},
   "source": [
    "## Importing"
   ]
  },
  {
   "cell_type": "code",
   "execution_count": 69,
   "metadata": {},
   "outputs": [
    {
     "name": "stdout",
     "output_type": "stream",
     "text": [
      "x.shape is (97, 1)\n",
      "y.shape is (97, 1)\n"
     ]
    }
   ],
   "source": [
    "import pandas as pd\n",
    "import numpy as np\n",
    "import ipyvolume as ipv\n",
    "import matplotlib.pyplot as plt\n",
    "from matplotlib import cm\n",
    "\n",
    "data = pd.read_csv('./ex1data1.txt', header=None).values\n",
    "x, y = data[:, :-1], data[:, -1:]\n",
    "m = len(x)\n",
    "\n",
    "print(\"x.shape is %s\" % (x.shape,))\n",
    "print(\"y.shape is %s\" % (y.shape,))"
   ]
  },
  {
   "cell_type": "markdown",
   "metadata": {},
   "source": [
    "## Plotting"
   ]
  },
  {
   "cell_type": "code",
   "execution_count": 70,
   "metadata": {},
   "outputs": [
    {
     "data": {
      "image/png": "[encoded data removed]",
      "text/plain": [
       "<Figure size 720x432 with 1 Axes>"
      ]
     },
     "metadata": {
      "needs_background": "light"
     },
     "output_type": "display_data"
    }
   ],
   "source": [
    "plt.figure(figsize=(10,6))\n",
    "plt.plot(x, y, 'bx', 'rx',markersize=10)\n",
    "plt.ylabel('Profit in $10,000s')\n",
    "plt.xlabel('Population of City in 10,000s')\n",
    "plt.show()"
   ]
  },
  {
   "cell_type": "markdown",
   "metadata": {},
   "source": [
    "## Vectorising the hypothesis function"
   ]
  },
  {
   "cell_type": "code",
   "execution_count": 71,
   "metadata": {},
   "outputs": [],
   "source": [
    "# The original hypothesis function is of the form:\n",
    "# theta0 + theta1 * x1 + theta2 * x2 ...\n",
    "\n",
    "# We create a new column in our data for a new variable x0 that will allow us to model the cost function:\n",
    "# theta0 * x0 + theta1 * x1 + theta2 * x2 ...\n",
    "# Each value of x0 will take the value of 1 so that theta0 * x0 = theta0\n",
    "\n",
    "x = np.hstack((np.ones((m, 1)), x))\n",
    "\n",
    "# x is now of shape (97 rows, 2 column)\n",
    "# theta is of shape (2 rows, 1 column)\n",
    "\n",
    "# We can now vectorise the hypothesis function:\n",
    "# theta0 * x0 + theta1 * x1 + theta2 * x2 ... = x * theta\n",
    "# x * theta is of shape (rows of x, columns of theta) = (97 rows, 1 column)"
   ]
  },
  {
   "cell_type": "markdown",
   "metadata": {},
   "source": [
    "## Cost Function"
   ]
  },
  {
   "cell_type": "code",
   "execution_count": 72,
   "metadata": {},
   "outputs": [],
   "source": [
    "def half_mse(x, y, theta):\n",
    "    return 1/(2 * m) * np.sum(np.square(x @ theta - y))"
   ]
  },
  {
   "cell_type": "markdown",
   "metadata": {},
   "source": [
    "## Visualising the cost function"
   ]
  },
  {
   "cell_type": "code",
   "execution_count": 75,
   "metadata": {
    "scrolled": false
   },
   "outputs": [
    {
     "data": {
      "application/vnd.jupyter.widget-view+json": {
       "model_id": "8485b14e7e074356831fbb9392025618",
       "version_major": 2,
       "version_minor": 0
      },
      "text/plain": [
       "VBox(children=(Figure(camera=PerspectiveCamera(fov=46.0, position=(0.0, 0.0, 2.0), quaternion=(0.0, 0.0, 0.0, …"
      ]
     },
     "metadata": {},
     "output_type": "display_data"
    },
    {
     "data": {
      "application/vnd.jupyter.widget-view+json": {
       "model_id": "d9a5c2b7d6614dc082cfa4688b336977",
       "version_major": 2,
       "version_minor": 0
      },
      "text/plain": [
       "Output()"
      ]
     },
     "metadata": {},
     "output_type": "display_data"
    }
   ],
   "source": [
    "# f(t0, t1) -> (t0, t1, cost(t0, t1))\n",
    "X = np.arange(-10,10,.5)\n",
    "Y = np.arange(-1,4,.1)\n",
    "X, Y = np.meshgrid(X, Y)\n",
    "Z = np.zeros(X.shape)\n",
    "\n",
    "for i in range(Z.shape[0]):\n",
    "    for j in range(Z.shape[1]):\n",
    "        Z[i][j] = half_mse(x, y, np.array([[X[i][j]], [Y[i][j]]]))\n",
    "        \n",
    "        \n",
    "colormap = cm.coolwarm\n",
    "znorm = Z - Z.min()\n",
    "znorm /= znorm.ptp()\n",
    "znorm.min(), znorm.max()\n",
    "color = colormap(znorm)\n",
    "\n",
    "ipv.figure(figsize=(10,6))\n",
    "ipv.plot_wireframe(X, Z, Y, color=color[...,:3])\n",
    "ipv.xlabel(\"𝜃0\")\n",
    "ipv.zlabel(\"𝜃1\")\n",
    "ipv.ylabel(\"Cost\")\n",
    "\n",
    "ipv.show()\n",
    "\n",
    "def set_view(figure, framenr, fraction):\n",
    "    ipv.view(np.sin(fraction * 2 * np.pi) * 45 - 135, (np.sin(fraction * 4 * np.pi + 3 / 2 * np.pi ) + 1) / 2 * 45, distance=2.5)\n",
    "\n",
    "ipv.movie('cost.gif', set_view, fps=24, frames=180)"
   ]
  },
  {
   "cell_type": "markdown",
   "metadata": {},
   "source": [
    "![Visualisation of cost function](cost.gif \"football\")"
   ]
  },
  {
   "cell_type": "markdown",
   "metadata": {},
   "source": [
    "## Feature normalisation"
   ]
  },
  {
   "cell_type": "code",
   "execution_count": null,
   "metadata": {},
   "outputs": [],
   "source": [
    "# Remove x0\n",
    "x = x[:, 1:]\n",
    "\n",
    "# Normalise x1, x2, ...\n",
    "def feature_normalisation(x):\n",
    "    mu = np.mean(x);\n",
    "    sigma = np.std(x);\n",
    "    return [(x - mu) / sigma, mu, sigma]\n",
    "\n",
    "x, mu, sigma = feature_normalisation(x)\n",
    "\n",
    "# Add x0\n",
    "x = np.hstack((np.ones((m, 1)), x))\n"
   ]
  },
  {
   "cell_type": "markdown",
   "metadata": {},
   "source": [
    "## Visualising the cost function"
   ]
  },
  {
   "cell_type": "code",
   "execution_count": null,
   "metadata": {},
   "outputs": [],
   "source": [
    "# f(t0, t1) -> (t0, t1, cost(t0, t1))\n",
    "X = np.arange(5.83913505 - 6, 5.83913505 + 6,.2)\n",
    "Y = np.arange(4.59304113 - 6, 4.59304113 + 6,.2)\n",
    "X, Y = np.meshgrid(X, Y)\n",
    "Z = np.zeros(X.shape)\n",
    "\n",
    "for i in range(Z.shape[0]):\n",
    "    for j in range(Z.shape[1]):\n",
    "        Z[i][j] = half_mse(x, y, np.array([[X[i][j]], [Y[i][j]]]))\n",
    "        \n",
    "        \n",
    "colormap = cm.coolwarm\n",
    "znorm = Z - Z.min()\n",
    "znorm /= znorm.ptp()\n",
    "znorm.min(), znorm.max()\n",
    "color = colormap(znorm)\n",
    "\n",
    "ipv.figure(figsize=(10,6))\n",
    "ipv.plot_wireframe(X, Z, Y, color=color[...,:3])\n",
    "ipv.xlabel(\"𝜃0\")\n",
    "ipv.zlabel(\"𝜃1\")\n",
    "ipv.ylabel(\"Cost\")\n",
    "\n",
    "ipv.show()\n",
    "\n",
    "def set_view(figure, framenr, fraction):\n",
    "    ipv.view(fraction*360, 0, distance=2.5)\n",
    "    (2+0.5*np.sin(fraction * 6 * np.pi))\n",
    "ipv.movie('cost_normalised.gif', set_view, fps=6, frames=24*2)"
   ]
  },
  {
   "cell_type": "code",
   "execution_count": null,
   "metadata": {},
   "outputs": [],
   "source": [
    "# from IPython.display import HTML\n",
    "# HTML('<img src=\"cost_normalised.gif\">')"
   ]
  },
  {
   "cell_type": "markdown",
   "metadata": {},
   "source": [
    "## Gradient Descent"
   ]
  },
  {
   "cell_type": "code",
   "execution_count": null,
   "metadata": {},
   "outputs": [],
   "source": [
    "def gradient_descent(x, y, theta, alpha, iterations):\n",
    "    h = []\n",
    "    h.append(theta)\n",
    "    for i in range(iterations):\n",
    "        theta = theta - alpha / m * x.T @ (x @ theta - y)\n",
    "        h.append(theta)\n",
    "    return [theta, h]"
   ]
  },
  {
   "cell_type": "code",
   "execution_count": null,
   "metadata": {},
   "outputs": [],
   "source": [
    "# Initialise theta0, theta1, ...\n",
    "theta = np.zeros((x.shape[1], 1));\n",
    "\n",
    "# Set the parameters of gradient descent\n",
    "iterations = 500\n",
    "alpha = 0.01\n",
    "\n",
    "# Run gradient descent\n",
    "theta, history = gradient_descent(x, y, theta, alpha, iterations)\n",
    "\n",
    "for i, t in enumerate(theta.squeeze()):\n",
    "    print(\"Theta%s = %s\" % (i, t))"
   ]
  },
  {
   "cell_type": "markdown",
   "metadata": {},
   "source": [
    "## Plotting gradient descent"
   ]
  },
  {
   "cell_type": "code",
   "execution_count": null,
   "metadata": {},
   "outputs": [],
   "source": [
    "history = np.array(history).squeeze()\n",
    "Z = np.array([half_mse(x, y, np.array([[u], [v]])) for u, v in zip(history[:, 0], history[:, 1])])\n",
    "plt.figure(figsize=(10,6))\n",
    "plt.plot(Z, '-',markersize=10)\n",
    "plt.ylabel('Cost')\n",
    "plt.xlabel('Iteration')\n",
    "plt.show()"
   ]
  },
  {
   "cell_type": "markdown",
   "metadata": {},
   "source": [
    "## Visualising gradient descent"
   ]
  },
  {
   "cell_type": "code",
   "execution_count": null,
   "metadata": {},
   "outputs": [],
   "source": [
    "# f(t0, t1) -> (t0, t1, cost(t0, t1))\n",
    "X = np.arange(5.83913505 - 6, 5.83913505 + 6,.2)\n",
    "Y = np.arange(4.59304113 - 6, 4.59304113 + 6,.2)\n",
    "X, Y = np.meshgrid(X, Y)\n",
    "Z = np.zeros(X.shape)\n",
    "\n",
    "for i in range(Z.shape[0]):\n",
    "    for j in range(Z.shape[1]):\n",
    "        Z[i][j] = half_mse(x, y, np.array([[X[i][j]], [Y[i][j]]]))\n",
    "        \n",
    "        \n",
    "colormap = cm.coolwarm\n",
    "znorm = Z - Z.min()\n",
    "znorm /= znorm.ptp()\n",
    "znorm.min(), znorm.max()\n",
    "color = colormap(znorm)\n",
    "\n",
    "ipv.figure(figsize=(10,6))\n",
    "ipv.plot_wireframe(X, Z, Y, color=color[...,:3])\n",
    "ipv.xlabel(\"𝜃0\")\n",
    "ipv.zlabel(\"𝜃1\")\n",
    "ipv.ylabel(\"Cost\")\n",
    "\n",
    "U = history[:, 0]\n",
    "V = history[:, 1]\n",
    "Z = np.array([half_mse(x, y, np.array([[u], [v]])) for u, v in zip(U, V)])\n",
    "\n",
    "s = ipv.scatter(U[:, np.newaxis], Z[:, np.newaxis], V[:, np.newaxis], marker='sphere', size=5)\n",
    "ipv.animation_control(s, interval=50)\n",
    "\n",
    "ipv.show()\n",
    "\n",
    "def set_view(figure, framenr, fraction):\n",
    "    ipv.view(fraction*360, 0, distance=2.5)\n",
    "    (2+0.5*np.sin(fraction * 6 * np.pi))\n",
    "ipv.movie('gradient_descent.gif', set_view, fps=6, frames=24*2)"
   ]
  },
  {
   "cell_type": "code",
   "execution_count": null,
   "metadata": {},
   "outputs": [],
   "source": [
    "# from IPython.display import HTML\n",
    "# HTML('<img src=\"gradient_descent.gif\">')"
   ]
  },
  {
   "cell_type": "markdown",
   "metadata": {},
   "source": [
    "## Plotting the hypothesis function"
   ]
  },
  {
   "cell_type": "code",
   "execution_count": null,
   "metadata": {},
   "outputs": [],
   "source": [
    "plt.figure(figsize=(10,6))\n",
    "plt.plot(x[:, 1], y, 'bx', 'rx',markersize=10)\n",
    "plt.plot(x[:, 1], x @ theta, '-')\n",
    "plt.ylabel('Profit in $10,000s')\n",
    "plt.xlabel('Population of City in 10,000s')\n",
    "plt.show()"
   ]
  },
  {
   "cell_type": "markdown",
   "metadata": {},
   "source": [
    "# Multivariate Linear Regression"
   ]
  },
  {
   "cell_type": "code",
   "execution_count": null,
   "metadata": {},
   "outputs": [],
   "source": [
    "import pandas as pd\n",
    "import numpy as np\n",
    "import ipyvolume as ipv\n",
    "import matplotlib.pyplot as plt\n",
    "from matplotlib import cm\n",
    "\n",
    "data = pd.read_csv('./ex1data2.txt', header=None).values\n",
    "x, y = data[:, :-1], data[:, -1:]\n",
    "m = len(x)\n",
    "\n",
    "print(\"x.shape is %s\" % (x.shape,))\n",
    "print(\"y.shape is %s\" % (y.shape,))"
   ]
  },
  {
   "cell_type": "markdown",
   "metadata": {},
   "source": [
    "## Plotting"
   ]
  },
  {
   "cell_type": "code",
   "execution_count": null,
   "metadata": {},
   "outputs": [],
   "source": [
    "fig = ipv.figure()\n",
    "s = ipv.scatter(x[:, 0].astype(float), y.squeeze().astype(float), x[:, 1].astype(float), marker='sphere', size=5)\n",
    "ipv.show()"
   ]
  },
  {
   "cell_type": "code",
   "execution_count": 67,
   "metadata": {},
   "outputs": [
    {
     "data": {
      "text/plain": [
       "[<matplotlib.lines.Line2D at 0x11f43dbe0>]"
      ]
     },
     "execution_count": 67,
     "metadata": {},
     "output_type": "execute_result"
    },
    {
     "data": {
      "image/png": "[encoded data removed]",
      "text/plain": [
       "<Figure size 432x288 with 1 Axes>"
      ]
     },
     "metadata": {
      "needs_background": "light"
     },
     "output_type": "display_data"
    }
   ],
   "source": [
    "x = np.linspace(0, 1, 360)\n",
    "\n",
    "y = (np.sin(x * 4 * np.pi + 3 / 2 * np.pi ) + 1) / 2 * 30\n",
    "\n",
    "plt.plot(x, y)"
   ]
  },
  {
   "cell_type": "code",
   "execution_count": null,
   "metadata": {},
   "outputs": [],
   "source": []
  }
 ],
 "metadata": {
  "kernelspec": {
   "display_name": "Python 3",
   "language": "python",
   "name": "python3"
  },
  "language_info": {
   "codemirror_mode": {
    "name": "ipython",
    "version": 3
   },
   "file_extension": ".py",
   "mimetype": "text/x-python",
   "name": "python",
   "nbconvert_exporter": "python",
   "pygments_lexer": "ipython3",
   "version": "3.7.3"
  }
 },
 "nbformat": 4,
 "nbformat_minor": 2
}
