{
 "cells": [
  {
   "cell_type": "markdown",
   "metadata": {},
   "source": [
    "# Introduction"
   ]
  },
  {
   "cell_type": "markdown",
   "metadata": {},
   "source": [
    "The [dataset](https://www.kaggle.com/amananandrai/ag-news-classification-dataset) we'll be working with comes from Kaggle and contains news articles originating from 4 different class of news article with 30,000 training examples per class and 1900 training examples per class.\n",
    "\n",
    "In this notebook we establish a computationally inexpensive baseline model in the form of an support vector machine that achieves 92% precision and 92% recall on the training dataset. We then review the size of the test dataset and show that the true performance of the model against unseen data is closer to 91% for both precision and recall by incorporating all of the availible training data into the model evaluation step."
   ]
  },
  {
   "cell_type": "markdown",
   "metadata": {},
   "source": [
    "# Packages and settings"
   ]
  },
  {
   "cell_type": "code",
   "execution_count": null,
   "metadata": {
    "id": "2yRQMcwFKmIp"
   },
   "outputs": [],
   "source": [
    "# For importing tabulated data\n",
    "import pandas as pd\n",
    "# For representing and operating on vectors and matracies\n",
    "import numpy as np\n",
    "# For mounting google drive as a virtual drive\n",
    "from google.colab import drive\n",
    "# For plotting data\n",
    "import matplotlib.pyplot as plt"
   ]
  },
  {
   "cell_type": "markdown",
   "metadata": {
    "id": "5HR9g4RvNhUm"
   },
   "source": [
    "# Importing the dataset"
   ]
  },
  {
   "cell_type": "code",
   "execution_count": null,
   "metadata": {
    "colab": {
     "base_uri": "https://localhost:8080/"
    },
    "id": "s06BV2wrLPw1",
    "outputId": "fb170d2b-e944-4141-ba07-0883db2bf1cf"
   },
   "outputs": [
    {
     "name": "stdout",
     "output_type": "stream",
     "text": [
      "Drive already mounted at /content/drive; to attempt to forcibly remount, call drive.mount(\"/content/drive\", force_remount=True).\n"
     ]
    }
   ],
   "source": [
    "# Mount google drive as as a virtual drive\n",
    "drive.mount('/content/drive')\n",
    "\n",
    "# Read the dataset from google drive\n",
    "train, test = pd.read_csv('/content/drive/My Drive/ag_news/train.csv'), pd.read_csv('/content/drive/My Drive/ag_news/test.csv')\n",
    "\n",
    "# Combine the training and test set for initial inspection\n",
    "dataset = pd.concat([train, test])"
   ]
  },
  {
   "cell_type": "code",
   "execution_count": null,
   "metadata": {
    "colab": {
     "base_uri": "https://localhost:8080/",
     "height": 419
    },
    "id": "bK2c5YAmNDSo",
    "outputId": "8742f30d-985b-4e3f-ca02-591803f6c2b5"
   },
   "outputs": [
    {
     "data": {
      "text/html": [
       "<div>\n",
       "<style scoped>\n",
       "    .dataframe tbody tr th:only-of-type {\n",
       "        vertical-align: middle;\n",
       "    }\n",
       "\n",
       "    .dataframe tbody tr th {\n",
       "        vertical-align: top;\n",
       "    }\n",
       "\n",
       "    .dataframe thead th {\n",
       "        text-align: right;\n",
       "    }\n",
       "</style>\n",
       "<table border=\"1\" class=\"dataframe\">\n",
       "  <thead>\n",
       "    <tr style=\"text-align: right;\">\n",
       "      <th></th>\n",
       "      <th>Class Index</th>\n",
       "      <th>Title</th>\n",
       "      <th>Description</th>\n",
       "    </tr>\n",
       "  </thead>\n",
       "  <tbody>\n",
       "    <tr>\n",
       "      <th>0</th>\n",
       "      <td>3</td>\n",
       "      <td>Wall St. Bears Claw Back Into the Black (Reuters)</td>\n",
       "      <td>Reuters - Short-sellers, Wall Street's dwindli...</td>\n",
       "    </tr>\n",
       "    <tr>\n",
       "      <th>1</th>\n",
       "      <td>3</td>\n",
       "      <td>Carlyle Looks Toward Commercial Aerospace (Reu...</td>\n",
       "      <td>Reuters - Private investment firm Carlyle Grou...</td>\n",
       "    </tr>\n",
       "    <tr>\n",
       "      <th>2</th>\n",
       "      <td>3</td>\n",
       "      <td>Oil and Economy Cloud Stocks' Outlook (Reuters)</td>\n",
       "      <td>Reuters - Soaring crude prices plus worries\\ab...</td>\n",
       "    </tr>\n",
       "    <tr>\n",
       "      <th>3</th>\n",
       "      <td>3</td>\n",
       "      <td>Iraq Halts Oil Exports from Main Southern Pipe...</td>\n",
       "      <td>Reuters - Authorities have halted oil export\\f...</td>\n",
       "    </tr>\n",
       "    <tr>\n",
       "      <th>4</th>\n",
       "      <td>3</td>\n",
       "      <td>Oil prices soar to all-time record, posing new...</td>\n",
       "      <td>AFP - Tearaway world oil prices, toppling reco...</td>\n",
       "    </tr>\n",
       "    <tr>\n",
       "      <th>...</th>\n",
       "      <td>...</td>\n",
       "      <td>...</td>\n",
       "      <td>...</td>\n",
       "    </tr>\n",
       "    <tr>\n",
       "      <th>7595</th>\n",
       "      <td>1</td>\n",
       "      <td>Around the world</td>\n",
       "      <td>Ukrainian presidential candidate Viktor Yushch...</td>\n",
       "    </tr>\n",
       "    <tr>\n",
       "      <th>7596</th>\n",
       "      <td>2</td>\n",
       "      <td>Void is filled with Clement</td>\n",
       "      <td>With the supply of attractive pitching options...</td>\n",
       "    </tr>\n",
       "    <tr>\n",
       "      <th>7597</th>\n",
       "      <td>2</td>\n",
       "      <td>Martinez leaves bitter</td>\n",
       "      <td>Like Roger Clemens did almost exactly eight ye...</td>\n",
       "    </tr>\n",
       "    <tr>\n",
       "      <th>7598</th>\n",
       "      <td>3</td>\n",
       "      <td>5 of arthritis patients in Singapore take Bext...</td>\n",
       "      <td>SINGAPORE : Doctors in the United States have ...</td>\n",
       "    </tr>\n",
       "    <tr>\n",
       "      <th>7599</th>\n",
       "      <td>3</td>\n",
       "      <td>EBay gets into rentals</td>\n",
       "      <td>EBay plans to buy the apartment and home renta...</td>\n",
       "    </tr>\n",
       "  </tbody>\n",
       "</table>\n",
       "<p>127600 rows × 3 columns</p>\n",
       "</div>"
      ],
      "text/plain": [
       "      Class Index  ...                                        Description\n",
       "0               3  ...  Reuters - Short-sellers, Wall Street's dwindli...\n",
       "1               3  ...  Reuters - Private investment firm Carlyle Grou...\n",
       "2               3  ...  Reuters - Soaring crude prices plus worries\\ab...\n",
       "3               3  ...  Reuters - Authorities have halted oil export\\f...\n",
       "4               3  ...  AFP - Tearaway world oil prices, toppling reco...\n",
       "...           ...  ...                                                ...\n",
       "7595            1  ...  Ukrainian presidential candidate Viktor Yushch...\n",
       "7596            2  ...  With the supply of attractive pitching options...\n",
       "7597            2  ...  Like Roger Clemens did almost exactly eight ye...\n",
       "7598            3  ...  SINGAPORE : Doctors in the United States have ...\n",
       "7599            3  ...  EBay plans to buy the apartment and home renta...\n",
       "\n",
       "[127600 rows x 3 columns]"
      ]
     },
     "execution_count": 3,
     "metadata": {
      "tags": []
     },
     "output_type": "execute_result"
    }
   ],
   "source": [
    "# Show the dataset\n",
    "dataset"
   ]
  },
  {
   "cell_type": "markdown",
   "metadata": {
    "id": "z-ZMfwKBNNCM"
   },
   "source": [
    "# Dataset exploration"
   ]
  },
  {
   "cell_type": "markdown",
   "metadata": {
    "id": "eo2sBwU1VwvD"
   },
   "source": [
    "Although we we know that there are an equal number of training and test examples per class, it is good practice to double check these facts as an imbalanced dataset will affect the way we train and evaluate the model. We can see from the barchart below that the class distribution across our training and test examples is indeed uniform."
   ]
  },
  {
   "cell_type": "code",
   "execution_count": null,
   "metadata": {
    "colab": {
     "base_uri": "https://localhost:8080/",
     "height": 312
    },
    "id": "vyfcgdW-Lbjv",
    "outputId": "b8d5440a-87ca-46d6-f014-2f5b39df5db1"
   },
   "outputs": [
    {
     "data": {
      "text/plain": [
       "Text(0.5, 1.0, 'Class distribution')"
      ]
     },
     "execution_count": 4,
     "metadata": {
      "tags": []
     },
     "output_type": "execute_result"
    },
    {
     "data": {
      "image/png": "[encoded data removed]",
      "text/plain": [
       "<Figure size 432x288 with 1 Axes>"
      ]
     },
     "metadata": {
      "needs_background": "light",
      "tags": []
     },
     "output_type": "display_data"
    }
   ],
   "source": [
    "# Plot the class distribution for the training set\n",
    "ind, counts = np.unique(train['Class Index'].values, return_counts=True)\n",
    "plt.bar(ind, counts)\n",
    "plt.ylabel('Count')\n",
    "plt.xlabel('Class Index')\n",
    "plt.title('Class distribution')\n",
    "\n",
    "# Plot the class distribution for the test set\n",
    "ind, counts = np.unique(test['Class Index'].values, return_counts=True)\n",
    "plt.bar(ind, counts)\n",
    "plt.ylabel('Count')\n",
    "plt.xlabel('Class Index')\n",
    "plt.title('Class distribution')"
   ]
  },
  {
   "cell_type": "markdown",
   "metadata": {},
   "source": [
    "It is also important to check for missing values in the dataset as we will need impute or remove these values"
   ]
  },
  {
   "cell_type": "code",
   "execution_count": null,
   "metadata": {
    "colab": {
     "base_uri": "https://localhost:8080/"
    },
    "id": "nmwGV1fBMMhh",
    "outputId": "f824070f-ee12-4a0d-b429-a9137c790db0"
   },
   "outputs": [
    {
     "data": {
      "text/plain": [
       "Class Index    0\n",
       "Title          0\n",
       "Description    0\n",
       "dtype: int64"
      ]
     },
     "execution_count": 5,
     "metadata": {
      "tags": []
     },
     "output_type": "execute_result"
    }
   ],
   "source": [
    "# Check that there are no missing values from our data\n",
    "np.sum(dataset.isna(), axis=0)"
   ]
  },
  {
   "cell_type": "markdown",
   "metadata": {},
   "source": [
    "To check for anomolous data points it is desierable to look at the distribution of description lengths. We can see below that there are some descriptions that could be anomolous so let's look at them in more depth."
   ]
  },
  {
   "cell_type": "code",
   "execution_count": null,
   "metadata": {
    "colab": {
     "base_uri": "https://localhost:8080/",
     "height": 286
    },
    "id": "7ZKwX8VeSrMb",
    "outputId": "cb9c78f2-59cd-406c-8905-ad149d1f3bb0"
   },
   "outputs": [
    {
     "data": {
      "text/plain": [
       "(0.0, 200.0)"
      ]
     },
     "execution_count": 6,
     "metadata": {
      "tags": []
     },
     "output_type": "execute_result"
    },
    {
     "data": {
      "image/png": "[encoded data removed]",
      "text/plain": [
       "<Figure size 432x288 with 1 Axes>"
      ]
     },
     "metadata": {
      "needs_background": "light",
      "tags": []
     },
     "output_type": "display_data"
    }
   ],
   "source": [
    "description_lengths = dataset['Description'].apply(len).values\n",
    "plt.hist(description_lengths, bins=200)\n",
    "# Set the y limit of the graph in order to better understand the outliers in the distribution of description lengths\n",
    "plt.ylim((0, 200))"
   ]
  },
  {
   "cell_type": "markdown",
   "metadata": {
    "id": "cA-5GiA7QEyR"
   },
   "source": [
    "We can see below that some news article descriptions of short length may not have been collected correctly. In the context of this problem, my biggest concern is that the article scraper may have picked a text element that was not related to the article (e.g. advert) instead of the description text. This could cause the model we'll train to learn a less accurate relationship between the class index and the description.\n",
    "\n",
    "In this case, we check a small sample of 25 descriptions and titles and it seems that the descriptions are relevant to the title except where the description is missing, with value '#NAME?' instead."
   ]
  },
  {
   "cell_type": "code",
   "execution_count": null,
   "metadata": {
    "colab": {
     "base_uri": "https://localhost:8080/",
     "height": 824
    },
    "id": "0u7f8r-oN4CQ",
    "outputId": "f3ff293c-7b04-452a-fa03-ded5d3c6fb73"
   },
   "outputs": [
    {
     "data": {
      "text/html": [
       "<div>\n",
       "<style scoped>\n",
       "    .dataframe tbody tr th:only-of-type {\n",
       "        vertical-align: middle;\n",
       "    }\n",
       "\n",
       "    .dataframe tbody tr th {\n",
       "        vertical-align: top;\n",
       "    }\n",
       "\n",
       "    .dataframe thead th {\n",
       "        text-align: right;\n",
       "    }\n",
       "</style>\n",
       "<table border=\"1\" class=\"dataframe\">\n",
       "  <thead>\n",
       "    <tr style=\"text-align: right;\">\n",
       "      <th></th>\n",
       "      <th>Class Index</th>\n",
       "      <th>Title</th>\n",
       "      <th>Description</th>\n",
       "    </tr>\n",
       "  </thead>\n",
       "  <tbody>\n",
       "    <tr>\n",
       "      <th>21221</th>\n",
       "      <td>4</td>\n",
       "      <td>News: Nevadans to become first to use touch-sc...</td>\n",
       "      <td>The Associated Press By Rachel Konrad</td>\n",
       "    </tr>\n",
       "    <tr>\n",
       "      <th>18071</th>\n",
       "      <td>1</td>\n",
       "      <td>Bush, Republicans Outpoll Kerry, Democrats on ...</td>\n",
       "      <td>Reuters - Although the election is not until</td>\n",
       "    </tr>\n",
       "    <tr>\n",
       "      <th>58808</th>\n",
       "      <td>4</td>\n",
       "      <td>News: Homeland Security signals effort to prom...</td>\n",
       "      <td>The Associated Press By Ted Bridis</td>\n",
       "    </tr>\n",
       "    <tr>\n",
       "      <th>26651</th>\n",
       "      <td>4</td>\n",
       "      <td>Barrage of Hurricanes May Just Be Florida Norm...</td>\n",
       "      <td>Reuters - Sorry Florida. This is normal.</td>\n",
       "    </tr>\n",
       "    <tr>\n",
       "      <th>86279</th>\n",
       "      <td>4</td>\n",
       "      <td>News.com Extra: Mozilla claims no Google brows...</td>\n",
       "      <td>Plus: Microsoft ready to launch search engine</td>\n",
       "    </tr>\n",
       "    <tr>\n",
       "      <th>1797</th>\n",
       "      <td>4</td>\n",
       "      <td>News: Governments slow off the mark to combat ...</td>\n",
       "      <td>The Associated Press By Robert Wielaard</td>\n",
       "    </tr>\n",
       "    <tr>\n",
       "      <th>18921</th>\n",
       "      <td>3</td>\n",
       "      <td>ASEAN, Australia, N.Zealand See 2007 Pact (Reu...</td>\n",
       "      <td>Reuters - Southeast Asian nations, Australia and</td>\n",
       "    </tr>\n",
       "    <tr>\n",
       "      <th>96114</th>\n",
       "      <td>4</td>\n",
       "      <td>UK looks at 'integrating' ID card with health ...</td>\n",
       "      <td>To 'maximise benefits for patients', of course...</td>\n",
       "    </tr>\n",
       "    <tr>\n",
       "      <th>59909</th>\n",
       "      <td>4</td>\n",
       "      <td>News: Computer crash linked to excessive heat ...</td>\n",
       "      <td>The Associated Press By Rachel Konrad</td>\n",
       "    </tr>\n",
       "    <tr>\n",
       "      <th>117505</th>\n",
       "      <td>4</td>\n",
       "      <td>News: Bush prepares for possible shutdown of G...</td>\n",
       "      <td>The Associated Press By Ted Bridis</td>\n",
       "    </tr>\n",
       "    <tr>\n",
       "      <th>85566</th>\n",
       "      <td>4</td>\n",
       "      <td>P2Pers ask Supreme Court to reject RIAA ban re...</td>\n",
       "      <td>District Court, appeal court rulings clear enough</td>\n",
       "    </tr>\n",
       "    <tr>\n",
       "      <th>10532</th>\n",
       "      <td>4</td>\n",
       "      <td>Vodafone, Nokia Team Up for Simpler Mobile Sof...</td>\n",
       "      <td>Reuters - Mobile phone giants Vodafone and</td>\n",
       "    </tr>\n",
       "    <tr>\n",
       "      <th>37671</th>\n",
       "      <td>4</td>\n",
       "      <td>News: House drops plans to move cybersecurity ...</td>\n",
       "      <td>The Associated Press By Ted Bridis</td>\n",
       "    </tr>\n",
       "    <tr>\n",
       "      <th>119095</th>\n",
       "      <td>4</td>\n",
       "      <td>News: Symantec snaps up Veritas Software for \\...</td>\n",
       "      <td>The Associated Press By Michael Liedtke</td>\n",
       "    </tr>\n",
       "    <tr>\n",
       "      <th>101262</th>\n",
       "      <td>1</td>\n",
       "      <td>Lynching of agents puts Mexico focus on vigila...</td>\n",
       "      <td>#NAME?</td>\n",
       "    </tr>\n",
       "    <tr>\n",
       "      <th>119615</th>\n",
       "      <td>2</td>\n",
       "      <td>NBA-All-Star Carter Joins Nets in Six-Player T...</td>\n",
       "      <td>Reuters - The Toronto Raptors dealt four-times</td>\n",
       "    </tr>\n",
       "    <tr>\n",
       "      <th>47090</th>\n",
       "      <td>4</td>\n",
       "      <td>German Supreme Court rules in favor of 'generi...</td>\n",
       "      <td>First-come, first-served system 'not unethical'</td>\n",
       "    </tr>\n",
       "    <tr>\n",
       "      <th>3985</th>\n",
       "      <td>4</td>\n",
       "      <td>Too few games could set back PSP launch - Sony...</td>\n",
       "      <td>Signs of a delay, or just managing expectations?</td>\n",
       "    </tr>\n",
       "    <tr>\n",
       "      <th>115944</th>\n",
       "      <td>4</td>\n",
       "      <td>News: Source: Hollywood to sue server operator...</td>\n",
       "      <td>The Associated Press By Alex Veiga</td>\n",
       "    </tr>\n",
       "    <tr>\n",
       "      <th>92928</th>\n",
       "      <td>4</td>\n",
       "      <td>Everest Needs UNESCO Status as Glaciers Melt-G...</td>\n",
       "      <td>Reuters - Mount Everest should be put on a United</td>\n",
       "    </tr>\n",
       "    <tr>\n",
       "      <th>114229</th>\n",
       "      <td>4</td>\n",
       "      <td>ID checks could have stopped cockler deaths, s...</td>\n",
       "      <td>Or more properly, could have lost them their jobs</td>\n",
       "    </tr>\n",
       "    <tr>\n",
       "      <th>46326</th>\n",
       "      <td>4</td>\n",
       "      <td>Ghost of US vs MS laments Redmond's 'special a...</td>\n",
       "      <td>'Freedom to destroy freedom and competition'</td>\n",
       "    </tr>\n",
       "    <tr>\n",
       "      <th>94794</th>\n",
       "      <td>4</td>\n",
       "      <td>Use Linux and you &amp;lt;cite&amp;gt;will&amp;lt;/cite&amp;gt...</td>\n",
       "      <td>Lawsuit doom over 228 'stolen' patents predicted</td>\n",
       "    </tr>\n",
       "    <tr>\n",
       "      <th>61823</th>\n",
       "      <td>4</td>\n",
       "      <td>Dell unveils holiday lineup, including new pla...</td>\n",
       "      <td>It also shows off new printers and music players.</td>\n",
       "    </tr>\n",
       "    <tr>\n",
       "      <th>56703</th>\n",
       "      <td>4</td>\n",
       "      <td>Home Office in frame over FBI's London server ...</td>\n",
       "      <td>Blunkett had final say on legality of request</td>\n",
       "    </tr>\n",
       "  </tbody>\n",
       "</table>\n",
       "</div>"
      ],
      "text/plain": [
       "        Class Index  ...                                        Description\n",
       "21221             4  ...              The Associated Press By Rachel Konrad\n",
       "18071             1  ...       Reuters - Although the election is not until\n",
       "58808             4  ...                 The Associated Press By Ted Bridis\n",
       "26651             4  ...           Reuters - Sorry Florida. This is normal.\n",
       "86279             4  ...      Plus: Microsoft ready to launch search engine\n",
       "1797              4  ...            The Associated Press By Robert Wielaard\n",
       "18921             3  ...   Reuters - Southeast Asian nations, Australia and\n",
       "96114             4  ...  To 'maximise benefits for patients', of course...\n",
       "59909             4  ...              The Associated Press By Rachel Konrad\n",
       "117505            4  ...                 The Associated Press By Ted Bridis\n",
       "85566             4  ...  District Court, appeal court rulings clear enough\n",
       "10532             4  ...         Reuters - Mobile phone giants Vodafone and\n",
       "37671             4  ...                 The Associated Press By Ted Bridis\n",
       "119095            4  ...            The Associated Press By Michael Liedtke\n",
       "101262            1  ...                                             #NAME?\n",
       "119615            2  ...     Reuters - The Toronto Raptors dealt four-times\n",
       "47090             4  ...    First-come, first-served system 'not unethical'\n",
       "3985              4  ...   Signs of a delay, or just managing expectations?\n",
       "115944            4  ...                 The Associated Press By Alex Veiga\n",
       "92928             4  ...  Reuters - Mount Everest should be put on a United\n",
       "114229            4  ...  Or more properly, could have lost them their jobs\n",
       "46326             4  ...       'Freedom to destroy freedom and competition'\n",
       "94794             4  ...   Lawsuit doom over 228 'stolen' patents predicted\n",
       "61823             4  ...  It also shows off new printers and music players.\n",
       "56703             4  ...      Blunkett had final say on legality of request\n",
       "\n",
       "[25 rows x 3 columns]"
      ]
     },
     "execution_count": 7,
     "metadata": {
      "tags": []
     },
     "output_type": "execute_result"
    }
   ],
   "source": [
    "dataset[dataset['Description'].apply(len) < 50].sample(25)"
   ]
  },
  {
   "cell_type": "markdown",
   "metadata": {
    "id": "oW35Fx_6UMht"
   },
   "source": [
    "On other side of the distribution we can see below that some news article descriptions of a longer length may not have been collected correctly either. Just as with the short descriptions we check a sample of 25. The long descriptions all seem relevant to the title so they can be left alone.\n",
    "\n",
    "After digging into some of these full descriptions we can see that some of them contain html code that has not been removed by the scraper. If we were really looking to squeeze every ounce of performance out of our model then we could remove these from our text or we could add stopwords when vectorising the text. As it stands, the number of large and small texts make up a very small proportion of our dataset so it's not worth our time to address this problem at this stage in development."
   ]
  },
  {
   "cell_type": "code",
   "execution_count": null,
   "metadata": {
    "colab": {
     "base_uri": "https://localhost:8080/",
     "height": 824
    },
    "id": "jfHEfDVRSpu2",
    "outputId": "2cd677da-4a96-49c1-8995-13834a4d87a4"
   },
   "outputs": [
    {
     "data": {
      "text/html": [
       "<div>\n",
       "<style scoped>\n",
       "    .dataframe tbody tr th:only-of-type {\n",
       "        vertical-align: middle;\n",
       "    }\n",
       "\n",
       "    .dataframe tbody tr th {\n",
       "        vertical-align: top;\n",
       "    }\n",
       "\n",
       "    .dataframe thead th {\n",
       "        text-align: right;\n",
       "    }\n",
       "</style>\n",
       "<table border=\"1\" class=\"dataframe\">\n",
       "  <thead>\n",
       "    <tr style=\"text-align: right;\">\n",
       "      <th></th>\n",
       "      <th>Class Index</th>\n",
       "      <th>Title</th>\n",
       "      <th>Description</th>\n",
       "    </tr>\n",
       "  </thead>\n",
       "  <tbody>\n",
       "    <tr>\n",
       "      <th>82072</th>\n",
       "      <td>4</td>\n",
       "      <td>No More Books</td>\n",
       "      <td>\\\\I spent today packing up everything I own.  ...</td>\n",
       "    </tr>\n",
       "    <tr>\n",
       "      <th>57215</th>\n",
       "      <td>4</td>\n",
       "      <td>Product Previews</td>\n",
       "      <td>F5 bolsters firewall family\\The latest additio...</td>\n",
       "    </tr>\n",
       "    <tr>\n",
       "      <th>82070</th>\n",
       "      <td>4</td>\n",
       "      <td>More Election Response</td>\n",
       "      <td>\\\\More and more bloggers are waking to the new...</td>\n",
       "    </tr>\n",
       "    <tr>\n",
       "      <th>77692</th>\n",
       "      <td>3</td>\n",
       "      <td>When good vendors go bad</td>\n",
       "      <td>The most pervasive problem in running IT is no...</td>\n",
       "    </tr>\n",
       "    <tr>\n",
       "      <th>52085</th>\n",
       "      <td>1</td>\n",
       "      <td>Bush Follows Debate With Attack on Kerry</td>\n",
       "      <td>CLEVELAND - President Bush offered a sharp if ...</td>\n",
       "    </tr>\n",
       "    <tr>\n",
       "      <th>108623</th>\n",
       "      <td>4</td>\n",
       "      <td>U.S. Supreme Court to review cable Internet case</td>\n",
       "      <td>The U.S. Supreme Court has agreed to review an...</td>\n",
       "    </tr>\n",
       "    <tr>\n",
       "      <th>111618</th>\n",
       "      <td>4</td>\n",
       "      <td>Sprint: No comment on reported Nextel merger t...</td>\n",
       "      <td>WASHINGTON - Rumored merger talks between Spri...</td>\n",
       "    </tr>\n",
       "    <tr>\n",
       "      <th>104391</th>\n",
       "      <td>4</td>\n",
       "      <td>Sony, IBM, Toshiba Give Details of 'Cell' Chip</td>\n",
       "      <td>TOKYO (Reuters) - IBM &amp;lt;A HREF=\"http://www....</td>\n",
       "    </tr>\n",
       "    <tr>\n",
       "      <th>77444</th>\n",
       "      <td>4</td>\n",
       "      <td>Study: 100,000 civilian deaths due to Iraq inv...</td>\n",
       "      <td>Today, the Lancet medical journal published a ...</td>\n",
       "    </tr>\n",
       "    <tr>\n",
       "      <th>618</th>\n",
       "      <td>4</td>\n",
       "      <td>I Confess.  I'm a Software Pirate.</td>\n",
       "      <td>\\\\I'm guilty.  I'm a Software Pirate!  Not jus...</td>\n",
       "    </tr>\n",
       "    <tr>\n",
       "      <th>100820</th>\n",
       "      <td>4</td>\n",
       "      <td>Paul Martin Pushes For New World Forum</td>\n",
       "      <td>Canada's Prime Minister Paul Martin, while att...</td>\n",
       "    </tr>\n",
       "    <tr>\n",
       "      <th>18778</th>\n",
       "      <td>4</td>\n",
       "      <td>Active Duty Military Attending the RNC</td>\n",
       "      <td>A   recent report  filed by the Associated Pre...</td>\n",
       "    </tr>\n",
       "    <tr>\n",
       "      <th>9411</th>\n",
       "      <td>4</td>\n",
       "      <td>Outsourcing issue flares up at chip conference</td>\n",
       "      <td>STANFORD, CALIF. -- On Monday, the same day th...</td>\n",
       "    </tr>\n",
       "    <tr>\n",
       "      <th>6</th>\n",
       "      <td>4</td>\n",
       "      <td>Loosing the War on Terrorism</td>\n",
       "      <td>\\\\\"Sven Jaschan, self-confessed author of the ...</td>\n",
       "    </tr>\n",
       "    <tr>\n",
       "      <th>106594</th>\n",
       "      <td>3</td>\n",
       "      <td>IBM scores \\$1B in Danish contracts</td>\n",
       "      <td>IBM said Wednesday that it has sewn up outsour...</td>\n",
       "    </tr>\n",
       "    <tr>\n",
       "      <th>44991</th>\n",
       "      <td>4</td>\n",
       "      <td>House Bill HR 10 permits sending certain suspe...</td>\n",
       "      <td>Tucked away in Section 3032 and 3033 of H.R. 1...</td>\n",
       "    </tr>\n",
       "    <tr>\n",
       "      <th>96319</th>\n",
       "      <td>3</td>\n",
       "      <td>Movie Gallery Bids for Hollywood Video</td>\n",
       "      <td>NEW YORK (Reuters) - Movie Gallery Inc. &amp;lt;A...</td>\n",
       "    </tr>\n",
       "    <tr>\n",
       "      <th>16666</th>\n",
       "      <td>4</td>\n",
       "      <td>Women on Waves</td>\n",
       "      <td>Portugal has a long tradition of protecting th...</td>\n",
       "    </tr>\n",
       "    <tr>\n",
       "      <th>74344</th>\n",
       "      <td>4</td>\n",
       "      <td>High Oil Prices Might Be A Blessing In Disguise</td>\n",
       "      <td>The absolute price of oil has reached a new hi...</td>\n",
       "    </tr>\n",
       "    <tr>\n",
       "      <th>64097</th>\n",
       "      <td>4</td>\n",
       "      <td>PeopleSoft awaits Delaware court ruling</td>\n",
       "      <td>The second and final week of a Delaware court ...</td>\n",
       "    </tr>\n",
       "    <tr>\n",
       "      <th>163</th>\n",
       "      <td>4</td>\n",
       "      <td>The Visual World of Michel Gondry</td>\n",
       "      <td>A month ago I was introduced to the works of M...</td>\n",
       "    </tr>\n",
       "    <tr>\n",
       "      <th>72463</th>\n",
       "      <td>4</td>\n",
       "      <td>Wendy on Induce</td>\n",
       "      <td>\\\\Engadget  has a great post  from Wendy about...</td>\n",
       "    </tr>\n",
       "    <tr>\n",
       "      <th>20859</th>\n",
       "      <td>4</td>\n",
       "      <td>Laser Printers Recalled for Shock Hazard - CPSC</td>\n",
       "      <td>WASHINGTON (Reuters) - About 39,400 laser pri...</td>\n",
       "    </tr>\n",
       "    <tr>\n",
       "      <th>61771</th>\n",
       "      <td>4</td>\n",
       "      <td>Max Table size in MySQL</td>\n",
       "      <td>\\\\It turns out that MySQL  has a terrible uppe...</td>\n",
       "    </tr>\n",
       "    <tr>\n",
       "      <th>20861</th>\n",
       "      <td>4</td>\n",
       "      <td>Lexmark Recalls Laser Printers</td>\n",
       "      <td>WASHINGTON (Reuters) - About 39,400 laser pri...</td>\n",
       "    </tr>\n",
       "  </tbody>\n",
       "</table>\n",
       "</div>"
      ],
      "text/plain": [
       "        Class Index  ...                                        Description\n",
       "82072             4  ...  \\\\I spent today packing up everything I own.  ...\n",
       "57215             4  ...  F5 bolsters firewall family\\The latest additio...\n",
       "82070             4  ...  \\\\More and more bloggers are waking to the new...\n",
       "77692             3  ...  The most pervasive problem in running IT is no...\n",
       "52085             1  ...  CLEVELAND - President Bush offered a sharp if ...\n",
       "108623            4  ...  The U.S. Supreme Court has agreed to review an...\n",
       "111618            4  ...  WASHINGTON - Rumored merger talks between Spri...\n",
       "104391            4  ...   TOKYO (Reuters) - IBM &lt;A HREF=\"http://www....\n",
       "77444             4  ...  Today, the Lancet medical journal published a ...\n",
       "618               4  ...  \\\\I'm guilty.  I'm a Software Pirate!  Not jus...\n",
       "100820            4  ...  Canada's Prime Minister Paul Martin, while att...\n",
       "18778             4  ...  A   recent report  filed by the Associated Pre...\n",
       "9411              4  ...  STANFORD, CALIF. -- On Monday, the same day th...\n",
       "6                 4  ...  \\\\\"Sven Jaschan, self-confessed author of the ...\n",
       "106594            3  ...  IBM said Wednesday that it has sewn up outsour...\n",
       "44991             4  ...  Tucked away in Section 3032 and 3033 of H.R. 1...\n",
       "96319             3  ...   NEW YORK (Reuters) - Movie Gallery Inc. &lt;A...\n",
       "16666             4  ...  Portugal has a long tradition of protecting th...\n",
       "74344             4  ...  The absolute price of oil has reached a new hi...\n",
       "64097             4  ...  The second and final week of a Delaware court ...\n",
       "163               4  ...  A month ago I was introduced to the works of M...\n",
       "72463             4  ...  \\\\Engadget  has a great post  from Wendy about...\n",
       "20859             4  ...   WASHINGTON (Reuters) - About 39,400 laser pri...\n",
       "61771             4  ...  \\\\It turns out that MySQL  has a terrible uppe...\n",
       "20861             4  ...   WASHINGTON (Reuters) - About 39,400 laser pri...\n",
       "\n",
       "[25 rows x 3 columns]"
      ]
     },
     "execution_count": 9,
     "metadata": {
      "tags": []
     },
     "output_type": "execute_result"
    }
   ],
   "source": [
    "dataset[dataset['Description'].apply(len) > 600].sample(25)"
   ]
  },
  {
   "cell_type": "markdown",
   "metadata": {},
   "source": [
    "Although we do not need to alter many of these descriptions as they seem relevant to their corresponding titles, we should replace missing descriptions that instead have the value of '#NAME?'. This is straightforward and will prevent our model from identifying a correlation between the presense of the \"name\" token and a given class when the model is being trained."
   ]
  },
  {
   "cell_type": "code",
   "execution_count": null,
   "metadata": {
    "id": "plAz0OwRYKSu"
   },
   "outputs": [],
   "source": [
    "# Replace description with empty string where the description is equal to #NAME?\n",
    "# This should prevent the description from misinforming the model in these few cases\n",
    "train.loc[train['Description'] == '#NAME?', 'Description'] = ''\n",
    "test.loc[test['Description'] == '#NAME?', 'Description'] = ''\n",
    "dataset.loc[dataset['Description'] == '#NAME?', 'Description'] = ''"
   ]
  },
  {
   "cell_type": "markdown",
   "metadata": {
    "id": "kg4Z0D6ZPMVj"
   },
   "source": [
    "We also check for anomolous data points by looking at the distribution of title lengths."
   ]
  },
  {
   "cell_type": "code",
   "execution_count": null,
   "metadata": {
    "colab": {
     "base_uri": "https://localhost:8080/",
     "height": 286
    },
    "id": "zxjFmylKWa21",
    "outputId": "79dfa7c7-8b84-4c17-ae9e-6a46541654f6"
   },
   "outputs": [
    {
     "data": {
      "text/plain": [
       "(0.0, 400.0)"
      ]
     },
     "execution_count": 74,
     "metadata": {
      "tags": []
     },
     "output_type": "execute_result"
    },
    {
     "data": {
      "image/png": "[encoded data removed]",
      "text/plain": [
       "<Figure size 432x288 with 1 Axes>"
      ]
     },
     "metadata": {
      "needs_background": "light",
      "tags": []
     },
     "output_type": "display_data"
    }
   ],
   "source": [
    "title_lengths = dataset['Title'].apply(len).values\n",
    "plt.hist(title_lengths, bins=100)\n",
    "# Set the y limit of the graph in order to better understand the outliers in the distribution of description lengths\n",
    "plt.ylim((0, 400))"
   ]
  },
  {
   "cell_type": "markdown",
   "metadata": {
    "id": "LDfnrzzzZczT"
   },
   "source": [
    "We can see that there are a few anomalies where the title of the article is particularly short. These include a few rows where the title value is '#NAME?' or takes on the value of a website address. Again, it's not worth dealing with this issue immediately because this problem only affects a handful of training examples, however it's worth making a note of the problem in case we want to address it at a later date."
   ]
  },
  {
   "cell_type": "code",
   "execution_count": null,
   "metadata": {
    "colab": {
     "base_uri": "https://localhost:8080/",
     "height": 841
    },
    "id": "-tPAPXmuW2EO",
    "outputId": "804ceb9f-e525-4d38-8b3d-e48f85bbcd52"
   },
   "outputs": [
    {
     "name": "stdout",
     "output_type": "stream",
     "text": [
      "123\n"
     ]
    },
    {
     "data": {
      "text/html": [
       "<div>\n",
       "<style scoped>\n",
       "    .dataframe tbody tr th:only-of-type {\n",
       "        vertical-align: middle;\n",
       "    }\n",
       "\n",
       "    .dataframe tbody tr th {\n",
       "        vertical-align: top;\n",
       "    }\n",
       "\n",
       "    .dataframe thead th {\n",
       "        text-align: right;\n",
       "    }\n",
       "</style>\n",
       "<table border=\"1\" class=\"dataframe\">\n",
       "  <thead>\n",
       "    <tr style=\"text-align: right;\">\n",
       "      <th></th>\n",
       "      <th>Class Index</th>\n",
       "      <th>Title</th>\n",
       "      <th>Description</th>\n",
       "    </tr>\n",
       "  </thead>\n",
       "  <tbody>\n",
       "    <tr>\n",
       "      <th>48103</th>\n",
       "      <td>2</td>\n",
       "      <td>Footnotes</td>\n",
       "      <td>In the highest-scoring regulation game in Divi...</td>\n",
       "    </tr>\n",
       "    <tr>\n",
       "      <th>77530</th>\n",
       "      <td>4</td>\n",
       "      <td>Eye on IT</td>\n",
       "      <td>The Office of Government Commerce #39;s report...</td>\n",
       "    </tr>\n",
       "    <tr>\n",
       "      <th>18175</th>\n",
       "      <td>2</td>\n",
       "      <td>SI.com</td>\n",
       "      <td>ST. LOUIS (Ticker) -- Matt Morris tossed his s...</td>\n",
       "    </tr>\n",
       "    <tr>\n",
       "      <th>32624</th>\n",
       "      <td>2</td>\n",
       "      <td>SI.com</td>\n",
       "      <td>MINNEAPOLIS (Ticker) -- Johan Santana turned i...</td>\n",
       "    </tr>\n",
       "    <tr>\n",
       "      <th>42162</th>\n",
       "      <td>2</td>\n",
       "      <td>SI.com</td>\n",
       "      <td>LOS ANGELES (Ticker) -- The Los Angeles Dodger...</td>\n",
       "    </tr>\n",
       "    <tr>\n",
       "      <th>2595</th>\n",
       "      <td>2</td>\n",
       "      <td>SI.com</td>\n",
       "      <td>LOS ANGELES (Ticker) -- Wilson Alvarez continu...</td>\n",
       "    </tr>\n",
       "    <tr>\n",
       "      <th>42416</th>\n",
       "      <td>2</td>\n",
       "      <td>SI.com</td>\n",
       "      <td>OAKLAND, California (Ticker) -- After playing ...</td>\n",
       "    </tr>\n",
       "    <tr>\n",
       "      <th>102543</th>\n",
       "      <td>2</td>\n",
       "      <td>Kingpin</td>\n",
       "      <td>Hyping LeBron James as rightful inheritor of t...</td>\n",
       "    </tr>\n",
       "    <tr>\n",
       "      <th>75164</th>\n",
       "      <td>4</td>\n",
       "      <td>Pitcairn</td>\n",
       "      <td>By now, most people will have heard of the rat...</td>\n",
       "    </tr>\n",
       "    <tr>\n",
       "      <th>103080</th>\n",
       "      <td>3</td>\n",
       "      <td>Letters</td>\n",
       "      <td>Placement of photo, headline confusing When I ...</td>\n",
       "    </tr>\n",
       "    <tr>\n",
       "      <th>89692</th>\n",
       "      <td>4</td>\n",
       "      <td>My room</td>\n",
       "      <td>I smashed up my room the other day. I pulled o...</td>\n",
       "    </tr>\n",
       "    <tr>\n",
       "      <th>113482</th>\n",
       "      <td>3</td>\n",
       "      <td>Letters</td>\n",
       "      <td>Mellon Financial is good for Boston We take ex...</td>\n",
       "    </tr>\n",
       "    <tr>\n",
       "      <th>16355</th>\n",
       "      <td>3</td>\n",
       "      <td>Holy DVD!</td>\n",
       "      <td>&amp;lt;i&amp;gt;The Passion of the Christ&amp;lt;/i&amp;gt; i...</td>\n",
       "    </tr>\n",
       "    <tr>\n",
       "      <th>386</th>\n",
       "      <td>2</td>\n",
       "      <td>SI.com</td>\n",
       "      <td>HOUSTON (Ticker) -- Kerry Wood got plenty of r...</td>\n",
       "    </tr>\n",
       "    <tr>\n",
       "      <th>107606</th>\n",
       "      <td>4</td>\n",
       "      <td>Sun burn</td>\n",
       "      <td>An Australian man found himself in hot water, ...</td>\n",
       "    </tr>\n",
       "    <tr>\n",
       "      <th>55201</th>\n",
       "      <td>4</td>\n",
       "      <td>Ask Matt</td>\n",
       "      <td>A: Apple #39;s digital music player, which use...</td>\n",
       "    </tr>\n",
       "    <tr>\n",
       "      <th>54034</th>\n",
       "      <td>4</td>\n",
       "      <td>Now what?</td>\n",
       "      <td>It was an event more than eight years in the m...</td>\n",
       "    </tr>\n",
       "    <tr>\n",
       "      <th>84089</th>\n",
       "      <td>2</td>\n",
       "      <td>THECHAT</td>\n",
       "      <td>&amp;lt;em&amp;gt; When Republican Michael G. Fitzpatr...</td>\n",
       "    </tr>\n",
       "    <tr>\n",
       "      <th>43162</th>\n",
       "      <td>4</td>\n",
       "      <td>#NAME?</td>\n",
       "      <td>One day Hewlett-Packards Utility Data Center (...</td>\n",
       "    </tr>\n",
       "    <tr>\n",
       "      <th>18836</th>\n",
       "      <td>2</td>\n",
       "      <td>Notables</td>\n",
       "      <td>The San Diego Padres retired former All-Star o...</td>\n",
       "    </tr>\n",
       "    <tr>\n",
       "      <th>99603</th>\n",
       "      <td>4</td>\n",
       "      <td>Surf's up</td>\n",
       "      <td>Sick of all the analogies of surfing the Web t...</td>\n",
       "    </tr>\n",
       "    <tr>\n",
       "      <th>23320</th>\n",
       "      <td>4</td>\n",
       "      <td>#NAME?</td>\n",
       "      <td>Intel CTO Pat Gelsinger says the Internet must...</td>\n",
       "    </tr>\n",
       "    <tr>\n",
       "      <th>24725</th>\n",
       "      <td>2</td>\n",
       "      <td>SI.com</td>\n",
       "      <td>OAKLAND, California (Ticker) -- Nick Swisher a...</td>\n",
       "    </tr>\n",
       "    <tr>\n",
       "      <th>14022</th>\n",
       "      <td>2</td>\n",
       "      <td>SI.com</td>\n",
       "      <td>FLUSHING, New York (Ticker) -- Robin Ventura  ...</td>\n",
       "    </tr>\n",
       "    <tr>\n",
       "      <th>49115</th>\n",
       "      <td>4</td>\n",
       "      <td>CNN Blog</td>\n",
       "      <td>Check this web log throughout the day as CNN A...</td>\n",
       "    </tr>\n",
       "  </tbody>\n",
       "</table>\n",
       "</div>"
      ],
      "text/plain": [
       "        Class Index  ...                                        Description\n",
       "48103             2  ...  In the highest-scoring regulation game in Divi...\n",
       "77530             4  ...  The Office of Government Commerce #39;s report...\n",
       "18175             2  ...  ST. LOUIS (Ticker) -- Matt Morris tossed his s...\n",
       "32624             2  ...  MINNEAPOLIS (Ticker) -- Johan Santana turned i...\n",
       "42162             2  ...  LOS ANGELES (Ticker) -- The Los Angeles Dodger...\n",
       "2595              2  ...  LOS ANGELES (Ticker) -- Wilson Alvarez continu...\n",
       "42416             2  ...  OAKLAND, California (Ticker) -- After playing ...\n",
       "102543            2  ...  Hyping LeBron James as rightful inheritor of t...\n",
       "75164             4  ...  By now, most people will have heard of the rat...\n",
       "103080            3  ...  Placement of photo, headline confusing When I ...\n",
       "89692             4  ...  I smashed up my room the other day. I pulled o...\n",
       "113482            3  ...  Mellon Financial is good for Boston We take ex...\n",
       "16355             3  ...  &lt;i&gt;The Passion of the Christ&lt;/i&gt; i...\n",
       "386               2  ...  HOUSTON (Ticker) -- Kerry Wood got plenty of r...\n",
       "107606            4  ...  An Australian man found himself in hot water, ...\n",
       "55201             4  ...  A: Apple #39;s digital music player, which use...\n",
       "54034             4  ...  It was an event more than eight years in the m...\n",
       "84089             2  ...  &lt;em&gt; When Republican Michael G. Fitzpatr...\n",
       "43162             4  ...  One day Hewlett-Packards Utility Data Center (...\n",
       "18836             2  ...  The San Diego Padres retired former All-Star o...\n",
       "99603             4  ...  Sick of all the analogies of surfing the Web t...\n",
       "23320             4  ...  Intel CTO Pat Gelsinger says the Internet must...\n",
       "24725             2  ...  OAKLAND, California (Ticker) -- Nick Swisher a...\n",
       "14022             2  ...  FLUSHING, New York (Ticker) -- Robin Ventura  ...\n",
       "49115             4  ...  Check this web log throughout the day as CNN A...\n",
       "\n",
       "[25 rows x 3 columns]"
      ]
     },
     "execution_count": 10,
     "metadata": {
      "tags": []
     },
     "output_type": "execute_result"
    }
   ],
   "source": [
    "print(len(dataset[dataset['Title'].apply(len) < 10]))\n",
    "dataset[dataset['Title'].apply(len) < 10].sample(25)"
   ]
  },
  {
   "cell_type": "markdown",
   "metadata": {
    "id": "wiMLpnwJaS1A"
   },
   "source": [
    "We can see on the right tail of the distribution of title lengths that the titles look okay so there's nothing to be done."
   ]
  },
  {
   "cell_type": "code",
   "execution_count": null,
   "metadata": {
    "colab": {
     "base_uri": "https://localhost:8080/",
     "height": 824
    },
    "id": "pbVVrJVSZRu5",
    "outputId": "35744827-a818-48e5-a5d3-52af36832a84"
   },
   "outputs": [
    {
     "data": {
      "text/html": [
       "<div>\n",
       "<style scoped>\n",
       "    .dataframe tbody tr th:only-of-type {\n",
       "        vertical-align: middle;\n",
       "    }\n",
       "\n",
       "    .dataframe tbody tr th {\n",
       "        vertical-align: top;\n",
       "    }\n",
       "\n",
       "    .dataframe thead th {\n",
       "        text-align: right;\n",
       "    }\n",
       "</style>\n",
       "<table border=\"1\" class=\"dataframe\">\n",
       "  <thead>\n",
       "    <tr style=\"text-align: right;\">\n",
       "      <th></th>\n",
       "      <th>Class Index</th>\n",
       "      <th>Title</th>\n",
       "      <th>Description</th>\n",
       "    </tr>\n",
       "  </thead>\n",
       "  <tbody>\n",
       "    <tr>\n",
       "      <th>11362</th>\n",
       "      <td>2</td>\n",
       "      <td>Quinn relieved that goalie Ed Belfour #39;s ba...</td>\n",
       "      <td>TORONTO (CP) - Maple Leafs goaltender Ed Belfo...</td>\n",
       "    </tr>\n",
       "    <tr>\n",
       "      <th>91400</th>\n",
       "      <td>1</td>\n",
       "      <td>Fingerprints, photographs begin at U.S. border...</td>\n",
       "      <td>Canadian Press - (AP) - Bridges to Mexico in t...</td>\n",
       "    </tr>\n",
       "    <tr>\n",
       "      <th>43759</th>\n",
       "      <td>1</td>\n",
       "      <td>Homicide rate fell to lowest level in more tha...</td>\n",
       "      <td>Canadian Press - OTTAWA (CP) - The national ho...</td>\n",
       "    </tr>\n",
       "    <tr>\n",
       "      <th>95745</th>\n",
       "      <td>3</td>\n",
       "      <td>Merck #39;s Vioxx Withdrawal Illustrates Power...</td>\n",
       "      <td>Merck  amp; Co. withdrew the popular drug Viox...</td>\n",
       "    </tr>\n",
       "    <tr>\n",
       "      <th>88764</th>\n",
       "      <td>4</td>\n",
       "      <td>South Korea #39;s LG to file suit to nullify M...</td>\n",
       "      <td>SEOUL : South Korea #39;s LG Electronics will ...</td>\n",
       "    </tr>\n",
       "    <tr>\n",
       "      <th>55443</th>\n",
       "      <td>4</td>\n",
       "      <td>AT amp;T #39;s Gambit: Relying On Automation T...</td>\n",
       "      <td>AT amp;T #39;s top IT exec says automation tha...</td>\n",
       "    </tr>\n",
       "    <tr>\n",
       "      <th>100757</th>\n",
       "      <td>1</td>\n",
       "      <td>Ex-premier Bouchard still being treated for pe...</td>\n",
       "      <td>Canadian Press - MONTREAL (CP) - Ex-premier Lu...</td>\n",
       "    </tr>\n",
       "    <tr>\n",
       "      <th>87109</th>\n",
       "      <td>1</td>\n",
       "      <td>Union  #39;Cautiously Optimistic #39; About La...</td>\n",
       "      <td>A consortium of major industrial nations has n...</td>\n",
       "    </tr>\n",
       "    <tr>\n",
       "      <th>70064</th>\n",
       "      <td>1</td>\n",
       "      <td>Helicopters evacuate Japanese villagers after ...</td>\n",
       "      <td>Canadian Press - OJIYA, Japan (AP) - Military ...</td>\n",
       "    </tr>\n",
       "    <tr>\n",
       "      <th>113666</th>\n",
       "      <td>4</td>\n",
       "      <td>NASA #39;s O #39;Keefe to Resign; Ex-Missile D...</td>\n",
       "      <td>NASA Administrator Sean O #39;Keefe will resig...</td>\n",
       "    </tr>\n",
       "    <tr>\n",
       "      <th>4337</th>\n",
       "      <td>3</td>\n",
       "      <td>China #39;s economy still sizzling, with GDP u...</td>\n",
       "      <td>China #39;s economic boom is still roaring des...</td>\n",
       "    </tr>\n",
       "    <tr>\n",
       "      <th>6077</th>\n",
       "      <td>3</td>\n",
       "      <td>Workers at Mexico #39;s Volkswagen plant end s...</td>\n",
       "      <td>Workers at Volkswagen #39;s Mexico plant agree...</td>\n",
       "    </tr>\n",
       "    <tr>\n",
       "      <th>21076</th>\n",
       "      <td>4</td>\n",
       "      <td>Apache Balks At Microsoft #39;s Licensing In A...</td>\n",
       "      <td>Sep. 03, 2004. The Apache Software Foundation,...</td>\n",
       "    </tr>\n",
       "    <tr>\n",
       "      <th>6782</th>\n",
       "      <td>4</td>\n",
       "      <td>quot;Microsoft #39;s Actions Validate Our Lin...</td>\n",
       "      <td>Novell earned \\$23 million, or six cents a sha...</td>\n",
       "    </tr>\n",
       "    <tr>\n",
       "      <th>94822</th>\n",
       "      <td>4</td>\n",
       "      <td>Microsoft devotes entire department to filteri...</td>\n",
       "      <td>The Microsoft Corp. chairman receives four mil...</td>\n",
       "    </tr>\n",
       "    <tr>\n",
       "      <th>87964</th>\n",
       "      <td>3</td>\n",
       "      <td>Canadian Tire #39;s third-quarter profit jumps...</td>\n",
       "      <td>TORONTO (CP) - Canadian Tire reported a 17 per...</td>\n",
       "    </tr>\n",
       "    <tr>\n",
       "      <th>4710</th>\n",
       "      <td>1</td>\n",
       "      <td>Sporadic gunfire in Najaf after aide says radi...</td>\n",
       "      <td>NAJAF, Iraq (AP) Sporadic gunfire echoed throu...</td>\n",
       "    </tr>\n",
       "    <tr>\n",
       "      <th>72955</th>\n",
       "      <td>1</td>\n",
       "      <td>Canadian veterans lay wreaths to honour comrad...</td>\n",
       "      <td>Canadian Press - CASSINO, Italy (CP) - In the ...</td>\n",
       "    </tr>\n",
       "    <tr>\n",
       "      <th>5816</th>\n",
       "      <td>4</td>\n",
       "      <td>South Korea #39;s LG claims development of med...</td>\n",
       "      <td>SEOUL: South Korea #39;s LG Electronics Inc an...</td>\n",
       "    </tr>\n",
       "    <tr>\n",
       "      <th>71827</th>\n",
       "      <td>1</td>\n",
       "      <td>Bedraggled Klein heads into sunset term as sla...</td>\n",
       "      <td>Canadian Press - EDMONTON (CP) - Ralph Klein r...</td>\n",
       "    </tr>\n",
       "    <tr>\n",
       "      <th>45894</th>\n",
       "      <td>2</td>\n",
       "      <td>Mourinho #39;s Chelsea beats his former club F...</td>\n",
       "      <td>Jose Mourinho brushed aside sentiment as Chels...</td>\n",
       "    </tr>\n",
       "    <tr>\n",
       "      <th>95714</th>\n",
       "      <td>2</td>\n",
       "      <td>US downs Spain to face Australia in quarterfin...</td>\n",
       "      <td>The United States beat European champion Spain...</td>\n",
       "    </tr>\n",
       "    <tr>\n",
       "      <th>64688</th>\n",
       "      <td>3</td>\n",
       "      <td>Australian retail giants #39; takeover battle ...</td>\n",
       "      <td>SYDNEY: Woolworths Ltd said it will extend its...</td>\n",
       "    </tr>\n",
       "    <tr>\n",
       "      <th>22282</th>\n",
       "      <td>2</td>\n",
       "      <td>Soccer: Luck and bold decisions save Sven #39;...</td>\n",
       "      <td>LONDON : Sven-Goran Eriksson is redeemed as En...</td>\n",
       "    </tr>\n",
       "    <tr>\n",
       "      <th>93804</th>\n",
       "      <td>1</td>\n",
       "      <td>Ontario to dedicate  #36;12.5 million to water...</td>\n",
       "      <td>Canadian Press - TORONTO (CP) - The effects of...</td>\n",
       "    </tr>\n",
       "  </tbody>\n",
       "</table>\n",
       "</div>"
      ],
      "text/plain": [
       "        Class Index  ...                                        Description\n",
       "11362             2  ...  TORONTO (CP) - Maple Leafs goaltender Ed Belfo...\n",
       "91400             1  ...  Canadian Press - (AP) - Bridges to Mexico in t...\n",
       "43759             1  ...  Canadian Press - OTTAWA (CP) - The national ho...\n",
       "95745             3  ...  Merck  amp; Co. withdrew the popular drug Viox...\n",
       "88764             4  ...  SEOUL : South Korea #39;s LG Electronics will ...\n",
       "55443             4  ...  AT amp;T #39;s top IT exec says automation tha...\n",
       "100757            1  ...  Canadian Press - MONTREAL (CP) - Ex-premier Lu...\n",
       "87109             1  ...  A consortium of major industrial nations has n...\n",
       "70064             1  ...  Canadian Press - OJIYA, Japan (AP) - Military ...\n",
       "113666            4  ...  NASA Administrator Sean O #39;Keefe will resig...\n",
       "4337              3  ...  China #39;s economic boom is still roaring des...\n",
       "6077              3  ...  Workers at Volkswagen #39;s Mexico plant agree...\n",
       "21076             4  ...  Sep. 03, 2004. The Apache Software Foundation,...\n",
       "6782              4  ...  Novell earned \\$23 million, or six cents a sha...\n",
       "94822             4  ...  The Microsoft Corp. chairman receives four mil...\n",
       "87964             3  ...  TORONTO (CP) - Canadian Tire reported a 17 per...\n",
       "4710              1  ...  NAJAF, Iraq (AP) Sporadic gunfire echoed throu...\n",
       "72955             1  ...  Canadian Press - CASSINO, Italy (CP) - In the ...\n",
       "5816              4  ...  SEOUL: South Korea #39;s LG Electronics Inc an...\n",
       "71827             1  ...  Canadian Press - EDMONTON (CP) - Ralph Klein r...\n",
       "45894             2  ...  Jose Mourinho brushed aside sentiment as Chels...\n",
       "95714             2  ...  The United States beat European champion Spain...\n",
       "64688             3  ...  SYDNEY: Woolworths Ltd said it will extend its...\n",
       "22282             2  ...  LONDON : Sven-Goran Eriksson is redeemed as En...\n",
       "93804             1  ...  Canadian Press - TORONTO (CP) - The effects of...\n",
       "\n",
       "[25 rows x 3 columns]"
      ]
     },
     "execution_count": 11,
     "metadata": {
      "tags": []
     },
     "output_type": "execute_result"
    }
   ],
   "source": [
    "dataset[dataset['Title'].apply(len) > 90].sample(25)"
   ]
  },
  {
   "cell_type": "code",
   "execution_count": null,
   "metadata": {
    "id": "s1aRckAQaQse"
   },
   "outputs": [],
   "source": [
    "# Replace title with empty string where the title is equal to #NAME?\n",
    "# This should prevent the title from misinforming the model in these few cases\n",
    "train.loc[train['Title'] == '#NAME?', 'Title'] = ''\n",
    "test.loc[test['Title'] == '#NAME?', 'Title'] = ''\n",
    "dataset.loc[dataset['Title'] == '#NAME?', 'Title'] = ''"
   ]
  },
  {
   "cell_type": "markdown",
   "metadata": {
    "id": "74uK-OQQRLYB"
   },
   "source": [
    "The provided test set is quite small, making up just 6% of the availible data. While it is certainly advantageous to train on a larger proportion of the available data we also want to get an accurate understanding of how the model will generalise to unseen data. A smaller test set means a higher probability that the model's recorded performance against the test set does not accurately represent the true performance against unseen data. Initially we'll evaluate our model against this test set but then we'll improve upon this evaluation method by incorporating more of our data into the model evaluation step."
   ]
  },
  {
   "cell_type": "code",
   "execution_count": null,
   "metadata": {
    "colab": {
     "base_uri": "https://localhost:8080/"
    },
    "id": "7v5Q-bf0QwcL",
    "outputId": "2061851a-2ffe-45b4-f27c-27b9268f6f59"
   },
   "outputs": [
    {
     "name": "stdout",
     "output_type": "stream",
     "text": [
      "The test set makes up 5.96% of the availible training data.\n"
     ]
    }
   ],
   "source": [
    "print(f'The test set makes up {round(len(test) / (len(train) + len(test)) * 100 , 2)}% of the availible training data.')"
   ]
  },
  {
   "cell_type": "markdown",
   "metadata": {
    "id": "B6sMRsKH_MHb"
   },
   "source": [
    "# Feature selection"
   ]
  },
  {
   "cell_type": "markdown",
   "metadata": {
    "id": "_o71uLCSQOCR"
   },
   "source": [
    "We create features from unigrams, bigrams and trigrams. This increases the number of features drastically which in-turn raises the risk of overfitting the model. However, given our large dataset and simplified decision boundary this choice of features should improve performance on the test set instead of hindering it. We make use of both the titles and descriptions by feeding features from both into our model."
   ]
  },
  {
   "cell_type": "code",
   "execution_count": null,
   "metadata": {
    "colab": {
     "base_uri": "https://localhost:8080/"
    },
    "id": "KNO_ue-eeDui",
    "outputId": "e8aab836-be32-47c8-99fc-e4babcfe5986"
   },
   "outputs": [
    {
     "name": "stdout",
     "output_type": "stream",
     "text": [
      "(120000, 840727)\n",
      "(120000, 3017395)\n"
     ]
    }
   ],
   "source": [
    "from sklearn.feature_extraction.text import CountVectorizer\n",
    "count_vec_title = CountVectorizer(ngram_range=(1, 3)).fit(train['Title'].values)\n",
    "count_vec_desc = CountVectorizer(ngram_range=(1, 3)).fit(train['Description'].values)\n",
    "\n",
    "# Vectorise the training data\n",
    "X_train_title_counts = count_vec_title.transform(train['Title'].values)\n",
    "X_train_desc_counts = count_vec_desc.transform(train['Description'].values)\n",
    "\n",
    "print(X_train_title_counts.shape)\n",
    "print(X_train_desc_counts.shape)"
   ]
  },
  {
   "cell_type": "code",
   "execution_count": null,
   "metadata": {
    "colab": {
     "base_uri": "https://localhost:8080/"
    },
    "id": "bcar1JGOetL7",
    "outputId": "ac4d4ae6-b885-4e3f-cacd-45052ba84fed"
   },
   "outputs": [
    {
     "name": "stdout",
     "output_type": "stream",
     "text": [
      "(120000, 840727)\n",
      "(120000, 3017395)\n"
     ]
    }
   ],
   "source": [
    "# We use tf-idf to encode the rarity of a feature within it's given text and against the corpus as a whole\n",
    "from sklearn.feature_extraction.text import TfidfTransformer\n",
    "tf_title_transformer = TfidfTransformer().fit(X_train_title_counts)\n",
    "tf_desc_transformer = TfidfTransformer().fit(X_train_desc_counts)\n",
    "\n",
    "X_train_title_tf = tf_title_transformer.transform(X_train_title_counts)\n",
    "X_train_desc_tf = tf_desc_transformer.transform(X_train_desc_counts)\n",
    "\n",
    "print(X_train_title_tf.shape)\n",
    "print(X_train_desc_tf.shape)"
   ]
  },
  {
   "cell_type": "code",
   "execution_count": null,
   "metadata": {
    "colab": {
     "base_uri": "https://localhost:8080/"
    },
    "id": "gOXSRRaJf9hd",
    "outputId": "d35cdff7-cecd-48de-d08d-7d425deb91ea"
   },
   "outputs": [
    {
     "name": "stdout",
     "output_type": "stream",
     "text": [
      "(120000, 3858122)\n"
     ]
    }
   ],
   "source": [
    "# Combine the sparse matracies from the description and the title into a single matrix\n",
    "from scipy import sparse as sp\n",
    "X = sp.hstack([X_train_title_tf, X_train_desc_tf])\n",
    "print(X.shape)"
   ]
  },
  {
   "cell_type": "code",
   "execution_count": null,
   "metadata": {
    "id": "_m4brgjigP7M"
   },
   "outputs": [],
   "source": [
    "# Get the correct label for each training example\n",
    "y_train = train['Class Index'].values"
   ]
  },
  {
   "cell_type": "markdown",
   "metadata": {},
   "source": [
    "# Model selection"
   ]
  },
  {
   "cell_type": "markdown",
   "metadata": {
    "id": "Dp-zFqHeruI2"
   },
   "source": [
    "[This paper](https://nlp.stanford.edu/pubs/sidaw12_simple_sentiment.pdf) shows a comparison of several different models for text classification.\n",
    "It shows that Support Vector Machine (SVM) is better suited for full-length content whereas Multinomial Naive Bayes (MNB) performs better on snippets.\n",
    "The paper also shows that MNB is better than SVM/Logistic Regression when there are few training examples. As there are a large number of training examples per class, a Support Vector Machine is well suited to modelling this dataset.\n",
    "\n",
    "In particular we use the SVM implementation from sklearn as sklearn is a reputable, open-source machine learning library with excellent documentation and rich community support on stack overflow.\n",
    "\n",
    "It is also worth mentioning that this implementation of the SVM does not support GPU acceleration and that we could  receive a significant speedup by instead using one that does.\n",
    "\n",
    "The SVM model has several parameters. One such parameter that affects the decision boundary as well as training time is the choice of kernel. It would be great to use the rbf kernal as this typically gives great performance; it can find correlations between features to create a better decision boundary. The trade-off with the use of the rbf kernel is that it scales poorly with the number of training examples. For this reason we use the linear kernel and try to feed in some of the local corelations between tokens by encoding bigrams and trigrams."
   ]
  },
  {
   "cell_type": "code",
   "execution_count": null,
   "metadata": {
    "colab": {
     "base_uri": "https://localhost:8080/"
    },
    "id": "E8zu_fbDdZeG",
    "outputId": "076fead5-88ba-4ef6-bfb8-64e68eab9e6e"
   },
   "outputs": [
    {
     "name": "stdout",
     "output_type": "stream",
     "text": [
      "Model trained in 26.4s.\n"
     ]
    }
   ],
   "source": [
    "# Train a baseline model\n",
    "from sklearn.svm import LinearSVC\n",
    "import time\n",
    "\n",
    "start_time = time.time()\n",
    "clf = LinearSVC().fit(X, y_train)\n",
    "print(f'Model trained in {round(time.time() - start_time, 2)}s.')"
   ]
  },
  {
   "cell_type": "code",
   "execution_count": null,
   "metadata": {
    "colab": {
     "base_uri": "https://localhost:8080/"
    },
    "id": "fqZ6ToDkhM_5",
    "outputId": "d2defa42-ea69-4e40-8788-565e0cd342bf"
   },
   "outputs": [
    {
     "name": "stdout",
     "output_type": "stream",
     "text": [
      "(120000, 3858122)\n"
     ]
    }
   ],
   "source": [
    "# One-hot encode the test data\n",
    "X_test_title_counts = count_vec_title.transform(test['Title'].values)\n",
    "X_test_desc_counts = count_vec_desc.transform(test['Description'].values)\n",
    "\n",
    "X_test_title_tf = tf_title_transformer.transform(X_test_title_counts)\n",
    "X_test_desc_tf = tf_desc_transformer.transform(X_test_desc_counts)\n",
    "\n",
    "# Combine the sparse matracies from the description and the title into a single matrix\n",
    "from scipy import sparse as sp\n",
    "X2 = sp.hstack([X_test_title_tf, X_test_desc_tf])\n",
    "print(X.shape)\n",
    "\n",
    "# Get the correct label for each test example\n",
    "y_test = test['Class Index'].values\n",
    "\n",
    "# Get predictions for the test set \n",
    "y_pred = clf.predict(X2)"
   ]
  },
  {
   "cell_type": "markdown",
   "metadata": {},
   "source": [
    "# Model evaluation"
   ]
  },
  {
   "cell_type": "code",
   "execution_count": null,
   "metadata": {
    "colab": {
     "base_uri": "https://localhost:8080/"
    },
    "id": "eOo1TYD6iNxA",
    "outputId": "94287f1d-2a5e-4c5b-a4f0-ba11e9b29742"
   },
   "outputs": [
    {
     "name": "stdout",
     "output_type": "stream",
     "text": [
      "              precision    recall  f1-score   support\n",
      "\n",
      "           1       0.93      0.92      0.93      1900\n",
      "           2       0.95      0.99      0.97      1900\n",
      "           3       0.90      0.89      0.90      1900\n",
      "           4       0.90      0.91      0.91      1900\n",
      "\n",
      "    accuracy                           0.92      7600\n",
      "   macro avg       0.92      0.92      0.92      7600\n",
      "weighted avg       0.92      0.92      0.92      7600\n",
      "\n",
      "Average precision: 92.38%\n",
      "Average recall: 92.41%\n"
     ]
    }
   ],
   "source": [
    "from sklearn import metrics\n",
    "print(metrics.classification_report(y_test, y_pred))\n",
    "print(f'Average precision: {round(metrics.precision_score(y_test, y_pred, average=\"macro\") * 100, 2)}%')\n",
    "print(f'Average recall: {round(metrics.recall_score(y_test, y_pred, average=\"macro\") * 100, 2)}%')"
   ]
  },
  {
   "cell_type": "markdown",
   "metadata": {
    "id": "OMkYIcNMs6eZ"
   },
   "source": [
    "We can see that our baseline model achieves a very good performance on the test set with precision=92% and a recall=92%. These metrics would be especially useful when assessing the performance of the model that was trained on an imbalanced training set.\n",
    "\n",
    "We can also see that the model performs better on class 1 and 2 while comparitively struggling with class 3 and 4. This is very useful to keep in mind when we look at where our time will be best spent improving our performance on this classification task.\n",
    "\n",
    "As the test set is small, it would be great to get a more reliable measure of the model's performance by using k-fold cross-validation to incorporate our entire dataset in testing the model. As the model is relatively quick to train, the computation penalty of this method is negligible but for larger models such as deep learning models, the computation penalty will be significant."
   ]
  },
  {
   "cell_type": "code",
   "execution_count": null,
   "metadata": {
    "colab": {
     "base_uri": "https://localhost:8080/"
    },
    "id": "d4t-w_SMvJ-g",
    "outputId": "d2f80edb-a620-43e2-d149-ab9db9f9805b"
   },
   "outputs": [
    {
     "name": "stdout",
     "output_type": "stream",
     "text": [
      "(127600, 881613)\n",
      "(127600, 3155161)\n"
     ]
    }
   ],
   "source": [
    "count_vec_title = CountVectorizer(ngram_range=(1, 3)).fit(dataset['Title'].values)\n",
    "count_vec_desc = CountVectorizer(ngram_range=(1, 3)).fit(dataset['Description'].values)\n",
    "\n",
    "# One-hot encode the training data\n",
    "X_title_counts = count_vec_title.transform(dataset['Title'].values)\n",
    "X_desc_counts = count_vec_desc.transform(dataset['Description'].values)\n",
    "\n",
    "print(X_title_counts.shape)\n",
    "print(X_desc_counts.shape)"
   ]
  },
  {
   "cell_type": "code",
   "execution_count": null,
   "metadata": {
    "colab": {
     "base_uri": "https://localhost:8080/"
    },
    "id": "9th5OgayvdwB",
    "outputId": "9d3fe49a-e9f9-4da9-cca7-052ec045c710"
   },
   "outputs": [
    {
     "name": "stdout",
     "output_type": "stream",
     "text": [
      "(127600, 881613)\n",
      "(127600, 3155161)\n"
     ]
    }
   ],
   "source": [
    "# We use tf-idf to encode the rarity of a feature within it's given text and against the corpus as a whole\n",
    "from sklearn.feature_extraction.text import TfidfTransformer\n",
    "tf_title_transformer = TfidfTransformer().fit(X_title_counts)\n",
    "tf_desc_transformer = TfidfTransformer().fit(X_desc_counts)\n",
    "\n",
    "X_title_tf = tf_title_transformer.transform(X_title_counts)\n",
    "X_desc_tf = tf_desc_transformer.transform(X_desc_counts)\n",
    "\n",
    "print(X_title_tf.shape)\n",
    "print(X_desc_tf.shape)"
   ]
  },
  {
   "cell_type": "code",
   "execution_count": null,
   "metadata": {
    "colab": {
     "base_uri": "https://localhost:8080/"
    },
    "id": "gS7Bphj-v33a",
    "outputId": "c75cc520-add4-4c61-c67d-9a2eeff74ec2"
   },
   "outputs": [
    {
     "name": "stdout",
     "output_type": "stream",
     "text": [
      "(120000, 3858122)\n"
     ]
    }
   ],
   "source": [
    "# Combine the sparse matracies from the description and the title into a single matrix\n",
    "from scipy import sparse as sp\n",
    "X3 = sp.hstack([X_title_tf, X_desc_tf])\n",
    "print(X.shape)"
   ]
  },
  {
   "cell_type": "code",
   "execution_count": null,
   "metadata": {
    "id": "vOxYZjoTv_ro"
   },
   "outputs": [],
   "source": [
    "# Get the correct label for each test example\n",
    "y = dataset['Class Index'].values"
   ]
  },
  {
   "cell_type": "code",
   "execution_count": null,
   "metadata": {
    "colab": {
     "base_uri": "https://localhost:8080/"
    },
    "id": "sdrl_MPGuyX4",
    "outputId": "fa260e2a-e7ea-4363-a31f-264611e20797"
   },
   "outputs": [
    {
     "name": "stdout",
     "output_type": "stream",
     "text": [
      "Total fit time:516.77s\n",
      "Mean fit time:25.84s\n",
      "91.28% precision with a standard deviation of 0.01\n",
      "91.28% recall with a standard deviation of 0.01\n"
     ]
    }
   ],
   "source": [
    "from sklearn.model_selection import cross_validate\n",
    "k = 20\n",
    "clf = LinearSVC()\n",
    "\n",
    "start_time = time.time()\n",
    "scores = cross_validate(clf, X3, y, cv=k, scoring=['precision_macro', 'recall_macro'])\n",
    "\n",
    "print(f'Total fit time:{round(scores[\"fit_time\"].sum(), 2)}s')\n",
    "print(f'Mean fit time:{round(scores[\"fit_time\"].mean(), 2)}s')\n",
    "print(f'{round(scores[\"test_precision_macro\"].mean() * 100, 2)}% precision with a standard deviation of {round(scores[\"test_precision_macro\"].std(), 2)}')\n",
    "print(f'{round(scores[\"test_recall_macro\"].mean() * 100, 2)}% recall with a standard deviation of {round(scores[\"test_recall_macro\"].std(), 2)}')"
   ]
  },
  {
   "cell_type": "markdown",
   "metadata": {
    "id": "fLLREqOnzWTZ"
   },
   "source": [
    "We can see that the time taken for 20-fold cross-validation is roughly 20x the time taken to train the model once. This works out to be just under 10 minutes which fits well within the usual time constraints.\n",
    "\n",
    "More imoprtantly, we can see that we previously overestimated the precision and recall of our model by evaluating on a small test set. The precision and recall are actually about 1% lower in each case."
   ]
  },
  {
   "cell_type": "markdown",
   "metadata": {
    "id": "-FSE3u47R2rj"
   },
   "source": [
    "# Discussion"
   ]
  },
  {
   "cell_type": "markdown",
   "metadata": {
    "id": "JYIcs1TxR68u"
   },
   "source": [
    "The model that we've trained provides a very good baseline for this dataset. We have achieved a relatively high precision and recall on the dataset achieving above 90% in both metrics, and we can feel confident in these statistics because we evaluated them using 20-fold cross-validation.\n",
    "\n",
    "At this level of precision we'll make roughly 1 error every 10 decisions we make which is a relatively high error rate. Improving our model's precision by just 5% would would cut this error rate in half.\n",
    "\n",
    "This is a lightweight model that can be run without a graphics card and with a short time for classification. This is particularly desirable when there is a lack of resources available or when we are under time constraints.\n",
    "\n",
    "To improve the precision and recall of the model further we may look at tuning the regularisation parameter of the SVM model. Regularisation helps to improve the performance on unseen data by preventing model overfitting. This is unlikely to improve the performance of our model too drastically as we are already using a simplified decision boundary. It is worth pointing out that, if we should choose to do this, we should split our dataset into a training, test and validation set for this step so that we do not introduce bias into our model. We would then train and evaluate for several different sets of parameter values on the training and test sets before finally evaluating the true performance on the validation set. \n",
    "\n",
    "To further improve performance on this dataset we could look at leveraging a more complicated model such as Google's pre-trained Bert. We can feel assured that a more complicated model is unlikely to overfit as we have a sizeable training dataset. This model would allow us to transfer existing knowledge captured in the weights of the model. Additionally this deep learning model is designed to capture correlations between words and sentences in text to better understand context and word sense. The trade off with this model is that we would require a GPU to train and evaluate the model, and the model is likely to take some time to train and evaluate especialy if we use k-fold cross-validation to get a more accurate measure of the models performance as we have done above."
   ]
  }
 ],
 "metadata": {
  "colab": {
   "collapsed_sections": [],
   "name": "Coding exercise.ipynb",
   "provenance": []
  },
  "kernelspec": {
   "display_name": "Python 3",
   "language": "python",
   "name": "python3"
  },
  "language_info": {
   "codemirror_mode": {
    "name": "ipython",
    "version": 3
   },
   "file_extension": ".py",
   "mimetype": "text/x-python",
   "name": "python",
   "nbconvert_exporter": "python",
   "pygments_lexer": "ipython3",
   "version": "3.8.1"
  }
 },
 "nbformat": 4,
 "nbformat_minor": 1
}
